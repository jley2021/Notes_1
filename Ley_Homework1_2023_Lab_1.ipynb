{
  "nbformat": 4,
  "nbformat_minor": 0,
  "metadata": {
    "colab": {
      "provenance": [],
      "collapsed_sections": [],
      "include_colab_link": true
    },
    "kernelspec": {
      "name": "python3",
      "display_name": "Python 3"
    },
    "language_info": {
      "name": "python"
    }
  },
  "cells": [
    {
      "cell_type": "markdown",
      "metadata": {
        "id": "view-in-github",
        "colab_type": "text"
      },
      "source": [
        "<a href=\"https://colab.research.google.com/github/jley2021/Notes_1/blob/main/Ley_Homework1_2023_Lab_1.ipynb\" target=\"_parent\"><img src=\"https://colab.research.google.com/assets/colab-badge.svg\" alt=\"Open In Colab\"/></a>"
      ]
    },
    {
      "cell_type": "markdown",
      "source": [
        "# Stats Notebook Lab #1"
      ],
      "metadata": {
        "id": "GEwHyK5ve9lG"
      }
    },
    {
      "cell_type": "markdown",
      "source": [
        "## Python Basics"
      ],
      "metadata": {
        "id": "0Lv7wtZ-iTC4"
      }
    },
    {
      "cell_type": "markdown",
      "source": [
        "### Calculator"
      ],
      "metadata": {
        "id": "eFNi_s3RiWwc"
      }
    },
    {
      "cell_type": "code",
      "source": [
        "# Comment lksjadflkasjdlfkjasd;lkfjl;kdsfkjshadfjkhasdkjflhsadkjfhskjdkjvjx"
      ],
      "metadata": {
        "id": "5jk_lQhz0T87"
      },
      "execution_count": 1,
      "outputs": []
    },
    {
      "cell_type": "code",
      "source": [
        "30.34321 + 9.12313 - 3.5567"
      ],
      "metadata": {
        "colab": {
          "base_uri": "https://localhost:8080/"
        },
        "id": "Sk8TLU3biY0J",
        "outputId": "7647156a-2950-47ed-8c6c-a052e1ecc162"
      },
      "execution_count": 2,
      "outputs": [
        {
          "output_type": "execute_result",
          "data": {
            "text/plain": [
              "35.90964"
            ]
          },
          "metadata": {},
          "execution_count": 2
        }
      ]
    },
    {
      "cell_type": "code",
      "source": [
        "2*2"
      ],
      "metadata": {
        "colab": {
          "base_uri": "https://localhost:8080/"
        },
        "id": "R-u5seQsh_RF",
        "outputId": "9be7cbce-fb75-4b69-d10c-ae7d0af68c66"
      },
      "execution_count": 3,
      "outputs": [
        {
          "output_type": "execute_result",
          "data": {
            "text/plain": [
              "4"
            ]
          },
          "metadata": {},
          "execution_count": 3
        }
      ]
    },
    {
      "cell_type": "code",
      "source": [
        "2**8"
      ],
      "metadata": {
        "colab": {
          "base_uri": "https://localhost:8080/"
        },
        "id": "OhzaZtPch_Yb",
        "outputId": "01d70120-6491-4853-8a0d-02b6dfd842c4"
      },
      "execution_count": null,
      "outputs": [
        {
          "output_type": "execute_result",
          "data": {
            "text/plain": [
              "256"
            ]
          },
          "metadata": {},
          "execution_count": 5
        }
      ]
    },
    {
      "cell_type": "code",
      "source": [
        "2**123\n",
        "#this is squared\n"
      ],
      "metadata": {
        "id": "yt6iRMB8h_a2"
      },
      "execution_count": null,
      "outputs": []
    },
    {
      "cell_type": "code",
      "source": [
        "2**12345"
      ],
      "metadata": {
        "id": "Ej6lPOmHh_dh"
      },
      "execution_count": null,
      "outputs": []
    },
    {
      "cell_type": "code",
      "source": [
        "123**45678"
      ],
      "metadata": {
        "id": "vD9XKYouh_gK"
      },
      "execution_count": null,
      "outputs": []
    },
    {
      "cell_type": "code",
      "source": [
        "8/4\n",
        "# one slash makes it a decimale"
      ],
      "metadata": {
        "colab": {
          "base_uri": "https://localhost:8080/"
        },
        "id": "HWnnfszJzi1N",
        "outputId": "b5628325-7a5b-4de2-96b1-42e790a03a8a"
      },
      "execution_count": null,
      "outputs": [
        {
          "output_type": "execute_result",
          "data": {
            "text/plain": [
              "2.0"
            ]
          },
          "metadata": {},
          "execution_count": 9
        }
      ]
    },
    {
      "cell_type": "code",
      "source": [
        "8//4\n",
        "# 2 slashes is a whole number\n"
      ],
      "metadata": {
        "colab": {
          "base_uri": "https://localhost:8080/"
        },
        "id": "NzDS65ewzkDe",
        "outputId": "c9695ac6-4a0a-49a8-fd93-78f1a8435378"
      },
      "execution_count": null,
      "outputs": [
        {
          "output_type": "execute_result",
          "data": {
            "text/plain": [
              "2"
            ]
          },
          "metadata": {},
          "execution_count": 1
        }
      ]
    },
    {
      "cell_type": "code",
      "source": [
        "8%12"
      ],
      "metadata": {
        "colab": {
          "base_uri": "https://localhost:8080/"
        },
        "id": "MwcyFBu4zlgE",
        "outputId": "77577003-9672-436f-df94-ebe4debf7b2d"
      },
      "execution_count": null,
      "outputs": [
        {
          "output_type": "execute_result",
          "data": {
            "text/plain": [
              "8"
            ]
          },
          "metadata": {},
          "execution_count": 11
        }
      ]
    },
    {
      "cell_type": "code",
      "source": [
        "13%12"
      ],
      "metadata": {
        "colab": {
          "base_uri": "https://localhost:8080/"
        },
        "id": "KGMyjnL_zm-8",
        "outputId": "67d3b787-2058-4272-8e29-3eae8ced5f59"
      },
      "execution_count": null,
      "outputs": [
        {
          "output_type": "execute_result",
          "data": {
            "text/plain": [
              "1"
            ]
          },
          "metadata": {},
          "execution_count": 12
        }
      ]
    },
    {
      "cell_type": "code",
      "source": [
        "22%12"
      ],
      "metadata": {
        "colab": {
          "base_uri": "https://localhost:8080/"
        },
        "id": "YSUzBZWEzrvu",
        "outputId": "babd4f2d-e8b5-451f-a3ae-aa958c91dcd6"
      },
      "execution_count": null,
      "outputs": [
        {
          "output_type": "execute_result",
          "data": {
            "text/plain": [
              "10"
            ]
          },
          "metadata": {},
          "execution_count": 13
        }
      ]
    },
    {
      "cell_type": "code",
      "source": [
        "24%12"
      ],
      "metadata": {
        "colab": {
          "base_uri": "https://localhost:8080/"
        },
        "id": "abx0hn9jz-pB",
        "outputId": "b137a3fc-2c4d-4575-aac3-fe811814a3a0"
      },
      "execution_count": null,
      "outputs": [
        {
          "output_type": "execute_result",
          "data": {
            "text/plain": [
              "0"
            ]
          },
          "metadata": {},
          "execution_count": 14
        }
      ]
    },
    {
      "cell_type": "markdown",
      "source": [
        "### Variables"
      ],
      "metadata": {
        "id": "C8SDfhEloyKH"
      }
    },
    {
      "cell_type": "code",
      "source": [
        "apples = 5\n",
        "# you can set a variable by typing in (X) and setting it equal to a number. The variable Apples is equal to 5\n"
      ],
      "metadata": {
        "id": "LMw0vkqhh_iu"
      },
      "execution_count": null,
      "outputs": []
    },
    {
      "cell_type": "code",
      "source": [
        "oranges = 8"
      ],
      "metadata": {
        "id": "RWMUvAJhh_lA"
      },
      "execution_count": null,
      "outputs": []
    },
    {
      "cell_type": "code",
      "source": [
        "total = apples + oranges\n",
        "# you can do math using different set variables and recieve a numerical value\n"
      ],
      "metadata": {
        "id": "JFF0Q3Bhh_na"
      },
      "execution_count": null,
      "outputs": []
    },
    {
      "cell_type": "code",
      "source": [
        "total"
      ],
      "metadata": {
        "colab": {
          "base_uri": "https://localhost:8080/"
        },
        "id": "fDX5SYA8h_qC",
        "outputId": "7d6311e0-1410-4ab9-ff63-950a0048f3c4"
      },
      "execution_count": null,
      "outputs": [
        {
          "output_type": "execute_result",
          "data": {
            "text/plain": [
              "13"
            ]
          },
          "metadata": {},
          "execution_count": 18
        }
      ]
    },
    {
      "cell_type": "code",
      "source": [
        "apples**2"
      ],
      "metadata": {
        "colab": {
          "base_uri": "https://localhost:8080/"
        },
        "id": "v3LbjRnEh_sU",
        "outputId": "021e48fa-4c7e-467c-e9a1-26330303a06b"
      },
      "execution_count": null,
      "outputs": [
        {
          "output_type": "execute_result",
          "data": {
            "text/plain": [
              "25"
            ]
          },
          "metadata": {},
          "execution_count": 19
        }
      ]
    },
    {
      "cell_type": "code",
      "source": [
        "cost_per_apple = 0.25"
      ],
      "metadata": {
        "id": "PyMaiewtiRRu"
      },
      "execution_count": null,
      "outputs": []
    },
    {
      "cell_type": "code",
      "source": [
        "total_apple_costs = cost_per_apple * apples"
      ],
      "metadata": {
        "id": "ssPAIuNCiRT6"
      },
      "execution_count": null,
      "outputs": []
    },
    {
      "cell_type": "code",
      "source": [
        "total_apple_costs"
      ],
      "metadata": {
        "colab": {
          "base_uri": "https://localhost:8080/"
        },
        "id": "NRZizjgRiRWB",
        "outputId": "dd95b942-234b-4e35-c063-bb88fbc1ec7e"
      },
      "execution_count": null,
      "outputs": [
        {
          "output_type": "execute_result",
          "data": {
            "text/plain": [
              "1.25"
            ]
          },
          "metadata": {},
          "execution_count": 22
        }
      ]
    },
    {
      "cell_type": "markdown",
      "source": [
        "### Vectors"
      ],
      "metadata": {
        "id": "NrZeHmA2pF7-"
      }
    },
    {
      "cell_type": "code",
      "source": [
        "import numpy as np\n",
        "import matplotlib.pyplot as plt"
      ],
      "metadata": {
        "id": "8IZ5UUuriRcT"
      },
      "execution_count": null,
      "outputs": []
    },
    {
      "cell_type": "code",
      "source": [
        "np.arange(10)\n",
        "# this is setting up a range of 0 through (n-1)"
      ],
      "metadata": {
        "colab": {
          "base_uri": "https://localhost:8080/"
        },
        "id": "eVVE2-PXiRe2",
        "outputId": "7cd1fc12-c2df-4a81-f16c-34a16ef1bdac"
      },
      "execution_count": null,
      "outputs": [
        {
          "output_type": "execute_result",
          "data": {
            "text/plain": [
              "array([0, 1, 2, 3, 4, 5, 6, 7, 8, 9])"
            ]
          },
          "metadata": {},
          "execution_count": 24
        }
      ]
    },
    {
      "cell_type": "code",
      "source": [
        "x = np.arange(10)\n",
        "# this is setting up the range as a variable"
      ],
      "metadata": {
        "id": "lxDda9rPiRgr"
      },
      "execution_count": null,
      "outputs": []
    },
    {
      "cell_type": "code",
      "source": [
        "x"
      ],
      "metadata": {
        "colab": {
          "base_uri": "https://localhost:8080/"
        },
        "id": "WLNa80A1iRiv",
        "outputId": "a6c36be5-cf69-4b35-cca8-5e9dc6ecf439"
      },
      "execution_count": null,
      "outputs": [
        {
          "output_type": "execute_result",
          "data": {
            "text/plain": [
              "array([0, 1, 2, 3, 4, 5, 6, 7, 8, 9])"
            ]
          },
          "metadata": {},
          "execution_count": 26
        }
      ]
    },
    {
      "cell_type": "code",
      "source": [
        "y = 3 * x + 5"
      ],
      "metadata": {
        "id": "wvBymvO6iRk9"
      },
      "execution_count": null,
      "outputs": []
    },
    {
      "cell_type": "code",
      "source": [
        "y"
      ],
      "metadata": {
        "colab": {
          "base_uri": "https://localhost:8080/"
        },
        "id": "R0caJJvuiRnD",
        "outputId": "d243abd0-8882-47c2-f386-891401201609"
      },
      "execution_count": null,
      "outputs": [
        {
          "output_type": "execute_result",
          "data": {
            "text/plain": [
              "array([ 5,  8, 11, 14, 17, 20, 23, 26, 29, 32])"
            ]
          },
          "metadata": {},
          "execution_count": 28
        }
      ]
    },
    {
      "cell_type": "code",
      "source": [
        "x = np.array([1,2,3,4,5,6])\n",
        "y = np.array([11,22,33,44,55,66])"
      ],
      "metadata": {
        "id": "BfLYoPWpvAft"
      },
      "execution_count": null,
      "outputs": []
    },
    {
      "cell_type": "code",
      "source": [
        "plt.plot(x,y) \n",
        "# this is the plot of two variable ranges"
      ],
      "metadata": {
        "colab": {
          "base_uri": "https://localhost:8080/",
          "height": 282
        },
        "id": "lv2MktRkvAru",
        "outputId": "24c3e4cf-be54-462d-d214-547172f0339a"
      },
      "execution_count": null,
      "outputs": [
        {
          "output_type": "execute_result",
          "data": {
            "text/plain": [
              "[<matplotlib.lines.Line2D at 0x7fb066308e90>]"
            ]
          },
          "metadata": {},
          "execution_count": 30
        },
        {
          "output_type": "display_data",
          "data": {
            "text/plain": [
              "<Figure size 432x288 with 1 Axes>"
            ],
            "image/png": "[encoded data removed]"
          },
          "metadata": {
            "needs_background": "light"
          }
        }
      ]
    },
    {
      "cell_type": "code",
      "source": [
        "plt.plot(x,y,'.')"
      ],
      "metadata": {
        "colab": {
          "base_uri": "https://localhost:8080/",
          "height": 282
        },
        "id": "q_SC501IvNyQ",
        "outputId": "e02fe147-8e62-4916-96be-3e5dee7bb869"
      },
      "execution_count": null,
      "outputs": [
        {
          "output_type": "execute_result",
          "data": {
            "text/plain": [
              "[<matplotlib.lines.Line2D at 0x7fb065e047d0>]"
            ]
          },
          "metadata": {},
          "execution_count": 31
        },
        {
          "output_type": "display_data",
          "data": {
            "text/plain": [
              "<Figure size 432x288 with 1 Axes>"
            ],
            "image/png": "[encoded data removed]"
          },
          "metadata": {
            "needs_background": "light"
          }
        }
      ]
    },
    {
      "cell_type": "code",
      "source": [
        "plt.plot(x,y,'r.')"
      ],
      "metadata": {
        "colab": {
          "base_uri": "https://localhost:8080/",
          "height": 282
        },
        "id": "Mp3pHMdSvPcQ",
        "outputId": "7d58f393-1b61-42b9-ef69-66f428018c27"
      },
      "execution_count": null,
      "outputs": [
        {
          "output_type": "execute_result",
          "data": {
            "text/plain": [
              "[<matplotlib.lines.Line2D at 0x7fb065d79850>]"
            ]
          },
          "metadata": {},
          "execution_count": 32
        },
        {
          "output_type": "display_data",
          "data": {
            "text/plain": [
              "<Figure size 432x288 with 1 Axes>"
            ],
            "image/png": "[encoded data removed]"
          },
          "metadata": {
            "needs_background": "light"
          }
        }
      ]
    },
    {
      "cell_type": "code",
      "source": [
        "plt.plot(x,y,'b--')"
      ],
      "metadata": {
        "colab": {
          "base_uri": "https://localhost:8080/",
          "height": 282
        },
        "id": "2_sDDZyhvREK",
        "outputId": "07c37b23-d0aa-42a9-c5bc-c8ed77555aa6"
      },
      "execution_count": null,
      "outputs": [
        {
          "output_type": "execute_result",
          "data": {
            "text/plain": [
              "[<matplotlib.lines.Line2D at 0x7fb065d75290>]"
            ]
          },
          "metadata": {},
          "execution_count": 33
        },
        {
          "output_type": "display_data",
          "data": {
            "text/plain": [
              "<Figure size 432x288 with 1 Axes>"
            ],
            "image/png": "[encoded data removed]"
          },
          "metadata": {
            "needs_background": "light"
          }
        }
      ]
    },
    {
      "cell_type": "markdown",
      "source": [
        "### Plotting"
      ],
      "metadata": {
        "id": "SSehamg7pVQ-"
      }
    },
    {
      "cell_type": "code",
      "source": [
        "import matplotlib.pyplot as plt"
      ],
      "metadata": {
        "id": "5xxvUltOiRrY"
      },
      "execution_count": null,
      "outputs": []
    },
    {
      "cell_type": "code",
      "source": [
        "plt.plot(x,y)"
      ],
      "metadata": {
        "colab": {
          "base_uri": "https://localhost:8080/",
          "height": 282
        },
        "id": "7GqRu33ziRx6",
        "outputId": "8f33abaa-c0ee-4f8e-9c95-b25c26cf126d"
      },
      "execution_count": null,
      "outputs": [
        {
          "output_type": "execute_result",
          "data": {
            "text/plain": [
              "[<matplotlib.lines.Line2D at 0x7fb065ce5050>]"
            ]
          },
          "metadata": {},
          "execution_count": 35
        },
        {
          "output_type": "display_data",
          "data": {
            "text/plain": [
              "<Figure size 432x288 with 1 Axes>"
            ],
            "image/png": "[encoded data removed]"
          },
          "metadata": {
            "needs_background": "light"
          }
        }
      ]
    },
    {
      "cell_type": "code",
      "source": [
        "x = np.linspace(0,10,100)"
      ],
      "metadata": {
        "id": "W9d-C2GkpavQ"
      },
      "execution_count": null,
      "outputs": []
    },
    {
      "cell_type": "code",
      "source": [
        "x"
      ],
      "metadata": {
        "id": "xm4FuiXapaxM"
      },
      "execution_count": null,
      "outputs": []
    },
    {
      "cell_type": "code",
      "source": [
        "y = x**2\n",
        "# this is the array setup with a variable squared."
      ],
      "metadata": {
        "id": "EFVXNTBlpazx"
      },
      "execution_count": null,
      "outputs": []
    },
    {
      "cell_type": "code",
      "source": [
        "plt.plot(x,y)"
      ],
      "metadata": {
        "colab": {
          "base_uri": "https://localhost:8080/",
          "height": 282
        },
        "id": "zeDSPzcypa3l",
        "outputId": "ec400d0f-8ba0-458d-dc00-2fa102cfc15c"
      },
      "execution_count": null,
      "outputs": [
        {
          "output_type": "execute_result",
          "data": {
            "text/plain": [
              "[<matplotlib.lines.Line2D at 0x7fb065c4a690>]"
            ]
          },
          "metadata": {},
          "execution_count": 39
        },
        {
          "output_type": "display_data",
          "data": {
            "text/plain": [
              "<Figure size 432x288 with 1 Axes>"
            ],
            "image/png": "[encoded data removed]"
          },
          "metadata": {
            "needs_background": "light"
          }
        }
      ]
    },
    {
      "cell_type": "code",
      "source": [
        "plt.plot(x,y)\n",
        "plt.title(\"Graph of x**2\");\n",
        "plt.xlabel(\"x\");\n",
        "plt.ylabel(\"y\");\n",
        "# you can change the aspects of the graphs such as titles"
      ],
      "metadata": {
        "colab": {
          "base_uri": "https://localhost:8080/",
          "height": 295
        },
        "id": "Ya-NbJXBpa79",
        "outputId": "f32026c5-bc99-4ca3-d50b-b02ba0f6e1eb"
      },
      "execution_count": null,
      "outputs": [
        {
          "output_type": "display_data",
          "data": {
            "text/plain": [
              "<Figure size 432x288 with 1 Axes>"
            ],
            "image/png": "[encoded data removed]"
          },
          "metadata": {
            "needs_background": "light"
          }
        }
      ]
    },
    {
      "cell_type": "code",
      "source": [
        "plt.plot(x,y,label=\"x squared\")\n",
        "plt.title(\"Graph of x**2\");\n",
        "plt.xlabel(\"x\");\n",
        "plt.ylabel(\"y\");\n",
        "plt.legend()"
      ],
      "metadata": {
        "colab": {
          "base_uri": "https://localhost:8080/",
          "height": 312
        },
        "id": "XaKFm2-1iR0D",
        "outputId": "d4c484fe-21c9-4b4c-bae2-cd12693f0736"
      },
      "execution_count": null,
      "outputs": [
        {
          "output_type": "execute_result",
          "data": {
            "text/plain": [
              "<matplotlib.legend.Legend at 0x7fb065c925d0>"
            ]
          },
          "metadata": {},
          "execution_count": 41
        },
        {
          "output_type": "display_data",
          "data": {
            "text/plain": [
              "<Figure size 432x288 with 1 Axes>"
            ],
            "image/png": "[encoded data removed]"
          },
          "metadata": {
            "needs_background": "light"
          }
        }
      ]
    },
    {
      "cell_type": "code",
      "source": [
        "x = np.linspace(0, 2, 100)\n",
        "\n",
        "plt.plot(x, x, label='linear')\n",
        "plt.plot(x, x**2, label='quadratic')\n",
        "plt.plot(x, x**8, label='cubic')\n",
        "\n",
        "plt.xlabel('x label')\n",
        "plt.ylabel('y label')\n",
        "\n",
        "plt.title(\"Simple Plot\")\n",
        "\n",
        "plt.legend()\n",
        "# this is a numpy plot with changed labels, lines and functions"
      ],
      "metadata": {
        "colab": {
          "base_uri": "https://localhost:8080/",
          "height": 312
        },
        "id": "QySsAtYkCZ-M",
        "outputId": "a1e52f4c-e044-433e-c375-c8c0cb2a7834"
      },
      "execution_count": null,
      "outputs": [
        {
          "output_type": "execute_result",
          "data": {
            "text/plain": [
              "<matplotlib.legend.Legend at 0x7fb065b6b310>"
            ]
          },
          "metadata": {},
          "execution_count": 42
        },
        {
          "output_type": "display_data",
          "data": {
            "text/plain": [
              "<Figure size 432x288 with 1 Axes>"
            ],
            "image/png": "[encoded data removed]"
          },
          "metadata": {
            "needs_background": "light"
          }
        }
      ]
    },
    {
      "cell_type": "code",
      "source": [
        "t = np.arange(0., 5., 0.2)\n",
        "plt.plot(t, t, 'r--', t, t**2, 'bs', t, t**3, 'g^');"
      ],
      "metadata": {
        "colab": {
          "base_uri": "https://localhost:8080/",
          "height": 265
        },
        "id": "7-YoTQk7Dt59",
        "outputId": "d32bb3ea-04d3-4a9c-8ba2-38cb97879885"
      },
      "execution_count": null,
      "outputs": [
        {
          "output_type": "display_data",
          "data": {
            "text/plain": [
              "<Figure size 432x288 with 1 Axes>"
            ],
            "image/png": "[encoded data removed]"
          },
          "metadata": {
            "needs_background": "light"
          }
        }
      ]
    },
    {
      "cell_type": "code",
      "source": [
        "names = ['cat', 'dog', 'bird']\n",
        "values = [15, 18, 6]\n",
        "\n",
        "plt.figure(1, figsize=(9, 3))\n",
        "\n",
        "\n",
        "plt.subplot(131)\n",
        "plt.bar(names, values)\n",
        "\n",
        "plt.subplot(132)\n",
        "plt.scatter(names, values)\n",
        "\n",
        "plt.subplot(133)\n",
        "plt.plot(names, values)\n",
        "\n",
        "\n",
        "plt.suptitle('Categorical Plotting')\n",
        "plt.show()"
      ],
      "metadata": {
        "colab": {
          "base_uri": "https://localhost:8080/",
          "height": 233
        },
        "id": "92EQ1jefDdry",
        "outputId": "1454c477-4704-4c04-e4dd-a9dd757c848a"
      },
      "execution_count": null,
      "outputs": [
        {
          "output_type": "display_data",
          "data": {
            "text/plain": [
              "<Figure size 648x216 with 3 Axes>"
            ],
            "image/png": "[encoded data removed]"
          },
          "metadata": {
            "needs_background": "light"
          }
        }
      ]
    },
    {
      "cell_type": "code",
      "source": [],
      "metadata": {
        "id": "lZ0IN4GbZ00E"
      },
      "execution_count": null,
      "outputs": []
    },
    {
      "cell_type": "markdown",
      "source": [
        "https://matplotlib.org/stable/gallery/index.html"
      ],
      "metadata": {
        "id": "Qw-f30L0J0zq"
      }
    },
    {
      "cell_type": "code",
      "source": [],
      "metadata": {
        "id": "CLy1FrpbZ08j"
      },
      "execution_count": null,
      "outputs": []
    },
    {
      "cell_type": "code",
      "source": [
        "import numpy as np\n",
        "import matplotlib.pyplot as plt\n",
        "t = np.arange(0.0, 2.0, 0.01)\n",
        "s = np.sin(2*np.pi*t)\n",
        "\n",
        "plt.plot(t, s)\n",
        "plt.title(r'$\\alpha_i > \\beta_i$', fontsize=20)\n",
        "plt.text(1, -0.6, r'$\\sum_{i=0}^\\infty x_i$', fontsize=20)\n",
        "plt.text(0.5, 0.6, r'$\\mathcal{A}\\mathrm{sin}(2 \\omega t)$',fontsize=15)\n",
        "plt.xlabel('time (s)')\n",
        "plt.ylabel('volts (mV)')\n",
        "plt.show()"
      ],
      "metadata": {
        "id": "3edUlLuArUoo",
        "colab": {
          "base_uri": "https://localhost:8080/",
          "height": 302
        },
        "outputId": "fc62dd1d-902f-4977-d89c-4601fdc0c9fa"
      },
      "execution_count": null,
      "outputs": [
        {
          "output_type": "display_data",
          "data": {
            "text/plain": [
              "<Figure size 432x288 with 1 Axes>"
            ],
            "image/png": "[encoded data removed]"
          },
          "metadata": {
            "needs_background": "light"
          }
        }
      ]
    },
    {
      "cell_type": "code",
      "source": [],
      "metadata": {
        "id": "eezkpjYIX1Ir"
      },
      "execution_count": null,
      "outputs": []
    },
    {
      "cell_type": "markdown",
      "source": [
        "# Exercises"
      ],
      "metadata": {
        "id": "WFza0lH8GOjw"
      }
    },
    {
      "cell_type": "markdown",
      "source": [
        "Plot the following functions from $x = -10$ to $x = 10$ \n",
        "\n",
        "(Hint: np.sin, np.exp)"
      ],
      "metadata": {
        "id": "aBIah-uiGUXZ"
      }
    },
    {
      "cell_type": "markdown",
      "source": [
        "$y = 10x+7$\n",
        "\n",
        "$y = -3x-12$\n",
        "\n",
        "$y=\\sin(x)$\n",
        "\n",
        "$y=e^x$\n",
        "\n",
        "$y=e^{-x^2}$"
      ],
      "metadata": {
        "id": "5HATIyQyGfEj"
      }
    },
    {
      "cell_type": "markdown",
      "source": [
        "Pick out a plot of your choice from [here](https://matplotlib.org/stable/gallery/index.html), copy the code to this notebook, run, and document to the best of your abilities. "
      ],
      "metadata": {
        "id": "t0g5nhtbHfta"
      }
    },
    {
      "cell_type": "code",
      "source": [
        "import numpy as np"
      ],
      "metadata": {
        "id": "jiYuQxe_39ct"
      },
      "execution_count": null,
      "outputs": []
    },
    {
      "cell_type": "code",
      "source": [
        "from matplotlib.collections import EventCollection"
      ],
      "metadata": {
        "id": "RY5YI5mySLUM"
      },
      "execution_count": null,
      "outputs": []
    },
    {
      "cell_type": "code",
      "source": [
        "import matplotlib.pyplot as plt"
      ],
      "metadata": {
        "id": "_ItuWYzWRV8W"
      },
      "execution_count": null,
      "outputs": []
    },
    {
      "cell_type": "code",
      "source": [
        "from matplotlib import patheffects"
      ],
      "metadata": {
        "id": "sGuGq_fbVy8N"
      },
      "execution_count": null,
      "outputs": []
    },
    {
      "cell_type": "code",
      "source": [],
      "metadata": {
        "id": "zcut4HcuV1gF"
      },
      "execution_count": null,
      "outputs": []
    },
    {
      "cell_type": "code",
      "source": [
        "np.arange(-10,11)"
      ],
      "metadata": {
        "id": "EiyA9R0HR4Oe",
        "outputId": "a116ddae-7691-49af-e25f-c71c7a65ee82",
        "colab": {
          "base_uri": "https://localhost:8080/"
        }
      },
      "execution_count": null,
      "outputs": [
        {
          "output_type": "execute_result",
          "data": {
            "text/plain": [
              "array([-10,  -9,  -8,  -7,  -6,  -5,  -4,  -3,  -2,  -1,   0,   1,   2,\n",
              "         3,   4,   5,   6,   7,   8,   9,  10])"
            ]
          },
          "metadata": {},
          "execution_count": 11
        }
      ]
    },
    {
      "cell_type": "code",
      "source": [
        "x = np.arange(-10,11)"
      ],
      "metadata": {
        "id": "y0foPiQvSV5r"
      },
      "execution_count": null,
      "outputs": []
    },
    {
      "cell_type": "code",
      "source": [
        "y = 10 * x+7"
      ],
      "metadata": {
        "id": "ie-QuWegSZnD"
      },
      "execution_count": null,
      "outputs": []
    },
    {
      "cell_type": "code",
      "source": [
        "y"
      ],
      "metadata": {
        "id": "a0ft9Hy-Sefy",
        "outputId": "40b8a9e5-f3e4-426a-f673-988b6ad983c8",
        "colab": {
          "base_uri": "https://localhost:8080/"
        }
      },
      "execution_count": null,
      "outputs": [
        {
          "output_type": "execute_result",
          "data": {
            "text/plain": [
              "array([-93, -83, -73, -63, -53, -43, -33, -23, -13,  -3,   7,  17,  27,\n",
              "        37,  47,  57,  67,  77,  87,  97, 107])"
            ]
          },
          "metadata": {},
          "execution_count": 26
        }
      ]
    },
    {
      "cell_type": "code",
      "source": [
        "np.array"
      ],
      "metadata": {
        "id": "2_Tqr6fVTzdZ",
        "outputId": "0aa04098-de95-4e97-c680-1e65f8976d1b",
        "colab": {
          "base_uri": "https://localhost:8080/"
        }
      },
      "execution_count": null,
      "outputs": [
        {
          "output_type": "execute_result",
          "data": {
            "text/plain": [
              "<function numpy.array>"
            ]
          },
          "metadata": {},
          "execution_count": 27
        }
      ]
    },
    {
      "cell_type": "code",
      "source": [
        "t = np.arange(-100, 100, 5)\n",
        "s = 1 + np.sin(2 * np.pi * t)\n",
        "# I added the different equation into the graph. \n",
        "\n",
        "fig, ax = plt.subplots()\n",
        "ax.plot(x,y)\n",
        "# I used the set varibles to be plotted on the grpah\n",
        "\n",
        "ax.set(xlabel='X (s)', ylabel='Y (mV)',\n",
        "       title='Plot of 10x+7')\n",
        "ax.grid()\n",
        "\n",
        "fig.savefig(\"test.png\")\n",
        "plt.show()"
      ],
      "metadata": {
        "id": "J9L66JEFSrJD",
        "outputId": "7efb2fba-412e-4f80-d38e-ae247a33ecb9",
        "colab": {
          "base_uri": "https://localhost:8080/",
          "height": 295
        }
      },
      "execution_count": null,
      "outputs": [
        {
          "output_type": "display_data",
          "data": {
            "text/plain": [
              "<Figure size 432x288 with 1 Axes>"
            ],
            "image/png": "[encoded data removed]"
          },
          "metadata": {
            "needs_background": "light"
          }
        }
      ]
    },
    {
      "cell_type": "code",
      "source": [
        "y = -3*x-12"
      ],
      "metadata": {
        "id": "fs2nx8hYUnKd"
      },
      "execution_count": null,
      "outputs": []
    },
    {
      "cell_type": "code",
      "source": [
        "y"
      ],
      "metadata": {
        "id": "5Y_kpUMMUy7O",
        "outputId": "d7e74c0c-1357-4a7e-c67f-a6b01ec61000",
        "colab": {
          "base_uri": "https://localhost:8080/"
        }
      },
      "execution_count": null,
      "outputs": [
        {
          "output_type": "execute_result",
          "data": {
            "text/plain": [
              "array([ 18,  15,  12,   9,   6,   3,   0,  -3,  -6,  -9, -12, -15, -18,\n",
              "       -21, -24, -27, -30, -33, -36, -39, -42])"
            ]
          },
          "metadata": {},
          "execution_count": 30
        }
      ]
    },
    {
      "cell_type": "code",
      "source": [
        "x = np.arange(-50, 50.0, 10)\n",
        "y = -3*x-12\n",
        "s = np.random.rand(*x.shape) * 800 + 500\n",
        "# I set the function to a variable and placed it as the 'y' and 'x' on the graph\n",
        "plt.scatter(x, y, s, c=\"g\", alpha=0.5, marker=r'$\\clubsuit$',\n",
        "            label=\"Luck\")\n",
        "plt.title = ('Plot of -3x-12')\n",
        "\n",
        "\n",
        "           \n",
        "plt.xlabel(\"X\")\n",
        "plt.ylabel(\"Y\")\n",
        "plt.legend(loc='upper right')\n",
        "plt.show()\n",
        "# set the labels and the location of the labels and legend."
      ],
      "metadata": {
        "id": "J3T6BEYEWdEL",
        "outputId": "06696510-facf-41ac-a5d4-41cba38ee674",
        "colab": {
          "base_uri": "https://localhost:8080/",
          "height": 282
        }
      },
      "execution_count": null,
      "outputs": [
        {
          "output_type": "display_data",
          "data": {
            "text/plain": [
              "<Figure size 432x288 with 1 Axes>"
            ],
            "image/png": "[encoded data removed]"
          },
          "metadata": {
            "needs_background": "light"
          }
        }
      ]
    },
    {
      "cell_type": "code",
      "source": [
        "# Plot of -3x-12"
      ],
      "metadata": {
        "id": "Ymq-y08MZJO9"
      },
      "execution_count": null,
      "outputs": []
    },
    {
      "cell_type": "code",
      "source": [
        "y=np.sin(x)"
      ],
      "metadata": {
        "id": "R53kaV9AXjh8"
      },
      "execution_count": null,
      "outputs": []
    },
    {
      "cell_type": "code",
      "source": [
        "y"
      ],
      "metadata": {
        "id": "SWuMbg3rXmCz",
        "outputId": "040b7d2c-a889-4b66-cb51-3a1a4770ee36",
        "colab": {
          "base_uri": "https://localhost:8080/"
        }
      },
      "execution_count": null,
      "outputs": [
        {
          "output_type": "execute_result",
          "data": {
            "text/plain": [
              "array([ 0.26237485, -0.74511316,  0.98803162, -0.91294525,  0.54402111,\n",
              "        0.        , -0.54402111,  0.91294525, -0.98803162,  0.74511316])"
            ]
          },
          "metadata": {},
          "execution_count": 34
        }
      ]
    },
    {
      "cell_type": "code",
      "source": [
        "x = np.arange(0.0, 2, 0.01)\n",
        "y1 = np.sin(x)\n",
        "y2 = 0.8 * np.sin(4 * np.pi * x)\n",
        "\n",
        "fig, (ax1, ax2, ax3) = plt.subplots(3, 1, sharex=True, figsize=(6, 6))\n",
        "\n",
        "ax1.fill_between(x, y1)\n",
        "ax1.set_title('Plot of Sin(x)')\n",
        "\n",
        "ax2.fill_between(x, y1, 1)\n",
        "ax2.set_title('fill between y1 and 1')\n",
        "\n",
        "ax3.fill_between(x, y1, y2)\n",
        "ax3.set_title('fill between y1 and y2')\n",
        "ax3.set_xlabel('x')\n",
        "fig.tight_layout()"
      ],
      "metadata": {
        "id": "C_9ZtmpLXYWO",
        "outputId": "3f4179ea-cbac-4baf-c644-22a43a4a5166",
        "colab": {
          "base_uri": "https://localhost:8080/",
          "height": 441
        }
      },
      "execution_count": null,
      "outputs": [
        {
          "output_type": "display_data",
          "data": {
            "text/plain": [
              "<Figure size 432x432 with 3 Axes>"
            ],
            "image/png": "[encoded data removed]"
          },
          "metadata": {
            "needs_background": "light"
          }
        }
      ]
    },
    {
      "cell_type": "code",
      "source": [
        "np.exp"
      ],
      "metadata": {
        "id": "ODON-okHgIdj",
        "outputId": "2a464810-c8ea-43fa-e875-2259a2347dee",
        "colab": {
          "base_uri": "https://localhost:8080/"
        }
      },
      "execution_count": null,
      "outputs": [
        {
          "output_type": "execute_result",
          "data": {
            "text/plain": [
              "<ufunc 'exp'>"
            ]
          },
          "metadata": {},
          "execution_count": 6
        }
      ]
    },
    {
      "cell_type": "code",
      "source": [
        "np.exp2"
      ],
      "metadata": {
        "id": "zxW9W0o2gPcT",
        "outputId": "44d584ea-1b64-4b0a-f0a4-437fcd758d99",
        "colab": {
          "base_uri": "https://localhost:8080/"
        }
      },
      "execution_count": null,
      "outputs": [
        {
          "output_type": "execute_result",
          "data": {
            "text/plain": [
              "<ufunc 'exp2'>"
            ]
          },
          "metadata": {},
          "execution_count": 7
        }
      ]
    },
    {
      "cell_type": "code",
      "source": [
        "e = 2.718\n",
        "# set e as a constant and used this for further graphs."
      ],
      "metadata": {
        "id": "bkFrgcKDgXTD"
      },
      "execution_count": null,
      "outputs": []
    },
    {
      "cell_type": "code",
      "source": [
        "e*np.exp(x)"
      ],
      "metadata": {
        "id": "kM1NcBoggn2k",
        "outputId": "8cf8501c-e9fb-4710-88ba-b832b90c63e0",
        "colab": {
          "base_uri": "https://localhost:8080/"
        }
      },
      "execution_count": null,
      "outputs": [
        {
          "output_type": "execute_result",
          "data": {
            "text/plain": [
              "array([1.23397009e-04, 3.35427848e-04, 9.11787423e-04, 2.47849518e-03,\n",
              "       6.73724842e-03, 1.83137399e-02, 4.97819065e-02, 1.35321252e-01,\n",
              "       3.67841300e-01, 9.99896321e-01, 2.71800000e+00, 7.38829001e+00,\n",
              "       2.00834545e+01, 5.45924894e+01, 1.48397772e+02, 4.03386966e+02,\n",
              "       1.09651946e+03, 2.98064892e+03, 8.10224381e+03, 2.20241821e+04,\n",
              "       5.98679340e+04])"
            ]
          },
          "metadata": {},
          "execution_count": 13
        }
      ]
    },
    {
      "cell_type": "code",
      "source": [
        "plt.plot(e*np.exp(x))\n"
      ],
      "metadata": {
        "id": "b2NytfzAZvtR",
        "outputId": "9603e12a-9707-4a1f-df3a-54bb06553423",
        "colab": {
          "base_uri": "https://localhost:8080/",
          "height": 282
        }
      },
      "execution_count": null,
      "outputs": [
        {
          "output_type": "execute_result",
          "data": {
            "text/plain": [
              "[<matplotlib.lines.Line2D at 0x7f8a6963c950>]"
            ]
          },
          "metadata": {},
          "execution_count": 16
        },
        {
          "output_type": "display_data",
          "data": {
            "text/plain": [
              "<Figure size 432x288 with 1 Axes>"
            ],
            "image/png": "[encoded data removed]"
          },
          "metadata": {
            "needs_background": "light"
          }
        }
      ]
    },
    {
      "cell_type": "code",
      "source": [
        "# This is the graph of e^x"
      ],
      "metadata": {
        "id": "SK638IdbjDZT"
      },
      "execution_count": null,
      "outputs": []
    },
    {
      "cell_type": "code",
      "source": [
        "e*np.exp(-x**2)"
      ],
      "metadata": {
        "id": "amU2JMt2hJBc",
        "outputId": "3522c185-a95d-4d17-b812-f8922f776863",
        "colab": {
          "base_uri": "https://localhost:8080/"
        }
      },
      "execution_count": null,
      "outputs": [
        {
          "output_type": "execute_result",
          "data": {
            "text/plain": [
              "array([1.01111665e-43, 1.80466426e-35, 4.35915800e-28, 1.42501632e-21,\n",
              "       6.30446305e-16, 3.77474314e-11, 3.05870605e-07, 3.35427848e-04,\n",
              "       4.97819065e-02, 9.99896321e-01, 2.71800000e+00, 9.99896321e-01,\n",
              "       4.97819065e-02, 3.35427848e-04, 3.05870605e-07, 3.77474314e-11,\n",
              "       6.30446305e-16, 1.42501632e-21, 4.35915800e-28, 1.80466426e-35,\n",
              "       1.01111665e-43])"
            ]
          },
          "metadata": {},
          "execution_count": 23
        }
      ]
    },
    {
      "cell_type": "code",
      "source": [
        "# Created the array using the constant e and the 'x' variable"
      ],
      "metadata": {
        "id": "jnmnf9dhjRwD"
      },
      "execution_count": null,
      "outputs": []
    },
    {
      "cell_type": "code",
      "source": [
        "plt.plot(e*np.exp(-x**2))"
      ],
      "metadata": {
        "id": "goUxy2uahwzk",
        "outputId": "ef0739d5-a352-419f-d9ae-bdc926668f96",
        "colab": {
          "base_uri": "https://localhost:8080/",
          "height": 282
        }
      },
      "execution_count": null,
      "outputs": [
        {
          "output_type": "execute_result",
          "data": {
            "text/plain": [
              "[<matplotlib.lines.Line2D at 0x7f8a6960ab10>]"
            ]
          },
          "metadata": {},
          "execution_count": 24
        },
        {
          "output_type": "display_data",
          "data": {
            "text/plain": [
              "<Figure size 432x288 with 1 Axes>"
            ],
            "image/png": "[encoded data removed]"
          },
          "metadata": {
            "needs_background": "light"
          }
        }
      ]
    },
    {
      "cell_type": "code",
      "source": [
        "# This is the graph of e^(-x^2)"
      ],
      "metadata": {
        "id": "vssA9GQ8jIJ0"
      },
      "execution_count": null,
      "outputs": []
    }
  ]
}